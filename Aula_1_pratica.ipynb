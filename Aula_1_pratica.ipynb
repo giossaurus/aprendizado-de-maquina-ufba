{
  "nbformat": 4,
  "nbformat_minor": 0,
  "metadata": {
    "colab": {
      "provenance": [],
      "include_colab_link": true
    },
    "kernelspec": {
      "name": "python3",
      "display_name": "Python 3"
    },
    "language_info": {
      "name": "python"
    }
  },
  "cells": [
    {
      "cell_type": "markdown",
      "metadata": {
        "id": "view-in-github",
        "colab_type": "text"
      },
      "source": [
        "<a href=\"https://colab.research.google.com/github/giossaurus/aprendizado-de-maquina-ufba/blob/main/Aula_1_pratica.ipynb\" target=\"_parent\"><img src=\"https://colab.research.google.com/assets/colab-badge.svg\" alt=\"Open In Colab\"/></a>"
      ]
    },
    {
      "cell_type": "markdown",
      "source": [
        "## Operações com Arrays"
      ],
      "metadata": {
        "id": "nxdV1om7HDJa"
      }
    },
    {
      "cell_type": "code",
      "execution_count": null,
      "metadata": {
        "id": "yumcmKp161_I"
      },
      "outputs": [],
      "source": [
        "import numpy as np"
      ]
    },
    {
      "cell_type": "code",
      "source": [
        "# Criando arrays\n",
        "arrayA = np.array([1, 2, 3, 5, 4])\n",
        "arrayB = np.array([4, 6, 10, 9, 8])\n",
        "arrayC = np.array([[3, 2, 1], [5, 6, 4], [9, 8, 7]])\n",
        "\n",
        "print(\"Array A:\", arrayA)\n",
        "print(\"Array B\", arrayB)\n",
        "print(\"Array C:\\n\", arrayC)"
      ],
      "metadata": {
        "id": "8X-IzcwQxCkb",
        "colab": {
          "base_uri": "https://localhost:8080/"
        },
        "outputId": "74a18d07-fd99-406b-9c5e-88d619f0de01"
      },
      "execution_count": null,
      "outputs": [
        {
          "output_type": "stream",
          "name": "stdout",
          "text": [
            "Array A: [1 2 3 5 4]\n",
            "Array B [ 4  6 10  9  8]\n",
            "Array C:\n",
            " [[3 2 1]\n",
            " [5 6 4]\n",
            " [9 8 7]]\n"
          ]
        }
      ]
    },
    {
      "cell_type": "code",
      "source": [
        "# Função: np.sum() - Soma todos os elementos do ArrayA\n",
        "soma_arrayA = np.sum(arrayA)\n",
        "print(\"Soma dos elementos do Array A:\", soma_arrayA)"
      ],
      "metadata": {
        "id": "rOMYpZRBy0VR",
        "colab": {
          "base_uri": "https://localhost:8080/"
        },
        "outputId": "6a075291-60f0-4f8f-a7ea-0fb6b0d248bb"
      },
      "execution_count": null,
      "outputs": [
        {
          "output_type": "stream",
          "name": "stdout",
          "text": [
            "Soma dos elementos do Array A: 15\n"
          ]
        }
      ]
    },
    {
      "cell_type": "code",
      "source": [
        "# Função: np.mean() - Calcula a média dos elementos do arrayA\n",
        "media_arrayA = np.mean(arrayA)\n",
        "print(\"Média dos elementos do Array A:\", media_arrayA)"
      ],
      "metadata": {
        "id": "41GhEajj0prm",
        "colab": {
          "base_uri": "https://localhost:8080/"
        },
        "outputId": "0b81d694-ebd4-4fde-c5d8-4e5b9483916f"
      },
      "execution_count": null,
      "outputs": [
        {
          "output_type": "stream",
          "name": "stdout",
          "text": [
            "Média dos elementos do Array A: 3.0\n"
          ]
        }
      ]
    },
    {
      "cell_type": "code",
      "source": [
        "# Função: np.max() - Encontra o valor máximo no arrayA\n",
        "max_arrayA = np.max(arrayA)\n",
        "print(\"Valor máximo em Array A:\", max_arrayA)"
      ],
      "metadata": {
        "id": "rCzTVQLU1GCf",
        "colab": {
          "base_uri": "https://localhost:8080/"
        },
        "outputId": "1db46027-51fe-4b7a-d734-94c7aaa96590"
      },
      "execution_count": null,
      "outputs": [
        {
          "output_type": "stream",
          "name": "stdout",
          "text": [
            "Valor máximo em Array A: 5\n"
          ]
        }
      ]
    },
    {
      "cell_type": "code",
      "source": [
        "# Função: np.min() - Encontra o valor mínimo no arrayA\n",
        "min_arrayA = np.min(arrayA)\n",
        "print(\"Valor mínimo em Array A:\", min_arrayA)"
      ],
      "metadata": {
        "id": "shgWenDz22oH",
        "colab": {
          "base_uri": "https://localhost:8080/"
        },
        "outputId": "7669b101-5d11-48c4-c088-960387d3236a"
      },
      "execution_count": null,
      "outputs": [
        {
          "output_type": "stream",
          "name": "stdout",
          "text": [
            "Valor mínimo em Array A: 1\n"
          ]
        }
      ]
    },
    {
      "cell_type": "code",
      "source": [
        "# Função: np.concatenate() - Concatena arrayA e arrayB\n",
        "array_concatenado = np.concatenate((arrayA, arrayB))\n",
        "print(\"Array concatenado:\", array_concatenado)"
      ],
      "metadata": {
        "id": "LtGwFFFp336Z",
        "colab": {
          "base_uri": "https://localhost:8080/"
        },
        "outputId": "8d1e0d1f-63c7-4c9d-8d86-104c6d98ede6"
      },
      "execution_count": null,
      "outputs": [
        {
          "output_type": "stream",
          "name": "stdout",
          "text": [
            "Array concatenado: [ 1  2  3  5  4  4  6 10  9  8]\n"
          ]
        }
      ]
    },
    {
      "cell_type": "code",
      "source": [
        "# Função: np.reshape() - Redimensiona arrayC\n",
        "arrayC_reshaped = arrayC.reshape((-1, 1))\n",
        "print(\"Array C redimensionado:\\n\", arrayC_reshaped)"
      ],
      "metadata": {
        "id": "YJNIG7gQ8rou",
        "colab": {
          "base_uri": "https://localhost:8080/"
        },
        "outputId": "61aebcf8-ecd6-4d66-ea2e-1f48d550921f"
      },
      "execution_count": null,
      "outputs": [
        {
          "output_type": "stream",
          "name": "stdout",
          "text": [
            "Array C redimensionado:\n",
            " [[3]\n",
            " [2]\n",
            " [1]\n",
            " [5]\n",
            " [6]\n",
            " [4]\n",
            " [9]\n",
            " [8]\n",
            " [7]]\n"
          ]
        }
      ]
    },
    {
      "cell_type": "code",
      "source": [
        "# Função: np.transpose() - Transpõe arrayC\n",
        "arrayC_transposed = np.transpose(arrayC)\n",
        "print(\"Array C transposto:\\n\", arrayC_transposed)"
      ],
      "metadata": {
        "id": "ZOVa7EVu9j4Q",
        "colab": {
          "base_uri": "https://localhost:8080/"
        },
        "outputId": "53190eef-2478-4c74-ea33-6b332323329d"
      },
      "execution_count": null,
      "outputs": [
        {
          "output_type": "stream",
          "name": "stdout",
          "text": [
            "Array C transposto:\n",
            " [[3 5 9]\n",
            " [2 6 8]\n",
            " [1 4 7]]\n"
          ]
        }
      ]
    },
    {
      "cell_type": "code",
      "source": [
        "# Função: np.unique() - Encontra os valores únicos no array concatenado\n",
        "valores_unicos = np.unique(array_concatenado)\n",
        "print(\"Valores únicos no array concatenado:\", valores_unicos)"
      ],
      "metadata": {
        "id": "KxDoDQkoAFNG",
        "colab": {
          "base_uri": "https://localhost:8080/"
        },
        "outputId": "fb945a71-36f9-4941-8c8b-901f17308a19"
      },
      "execution_count": null,
      "outputs": [
        {
          "output_type": "stream",
          "name": "stdout",
          "text": [
            "Valores únicos no array concatenado: [ 1  2  3  4  5  6  8  9 10]\n"
          ]
        }
      ]
    },
    {
      "cell_type": "code",
      "source": [
        "# Função: np.sort() - Ordena os elementos do array concatenado\n",
        "array_ordenado = np.sort(array_concatenado)\n",
        "print(\"Array concatenado ordenado:\", array_ordenado)"
      ],
      "metadata": {
        "id": "InHVkQctA3FP",
        "colab": {
          "base_uri": "https://localhost:8080/"
        },
        "outputId": "890890fc-1e10-48e5-d955-572a699e94d3"
      },
      "execution_count": null,
      "outputs": [
        {
          "output_type": "stream",
          "name": "stdout",
          "text": [
            "Array concatenado ordenado: [ 1  2  3  4  4  5  6  8  9 10]\n"
          ]
        }
      ]
    },
    {
      "cell_type": "code",
      "source": [
        "# Função: np.where() - Encontra os índices onde uma condição é verdadeira\n",
        "indices_onde_maior_que_5 = np.where(array_concatenado > 5)\n",
        "print(\"Índices onde o valor é maior que 5:\", indices_onde_maior_que_5)"
      ],
      "metadata": {
        "id": "_u1zxuSlBitm",
        "colab": {
          "base_uri": "https://localhost:8080/"
        },
        "outputId": "e6cb46cd-08ab-4b0a-80cc-c99373da0c7e"
      },
      "execution_count": null,
      "outputs": [
        {
          "output_type": "stream",
          "name": "stdout",
          "text": [
            "Índices onde o valor é maior que 5: (array([6, 7, 8, 9]),)\n"
          ]
        }
      ]
    },
    {
      "cell_type": "code",
      "source": [
        "# Função: np.random.rand() - Cria um array com valores aleatórios entre 0 e 1\n",
        "array_aleatorio = np.random.rand(2, 3)\n",
        "print(\"Array aleatório:\\n\", array_aleatorio)"
      ],
      "metadata": {
        "id": "tShZ4Xm7DeqA",
        "colab": {
          "base_uri": "https://localhost:8080/"
        },
        "outputId": "508fc4aa-1146-44b7-b5b1-50f02f17feb1"
      },
      "execution_count": null,
      "outputs": [
        {
          "output_type": "stream",
          "name": "stdout",
          "text": [
            "Array aleatório:\n",
            " [[0.32078944 0.08146829 0.79310879]\n",
            " [0.77912164 0.47563245 0.24202325]]\n"
          ]
        }
      ]
    },
    {
      "cell_type": "code",
      "source": [
        "# Função: np.zeros() - Cria um array preenchido com zeros\n",
        "array_zeros = np.zeros((2, 2))\n",
        "print(\"Array de zeros:\\n\", array_zeros)"
      ],
      "metadata": {
        "id": "QCeHU3BzF5oI",
        "colab": {
          "base_uri": "https://localhost:8080/"
        },
        "outputId": "690b9d2b-78c1-494d-f871-d84f01b204d7"
      },
      "execution_count": null,
      "outputs": [
        {
          "output_type": "stream",
          "name": "stdout",
          "text": [
            "Array de zeros:\n",
            " [[0. 0.]\n",
            " [0. 0.]]\n"
          ]
        }
      ]
    },
    {
      "cell_type": "code",
      "source": [
        "print(arrayA)\n",
        "print(arrayB)\n",
        "print(arrayC)"
      ],
      "metadata": {
        "colab": {
          "base_uri": "https://localhost:8080/"
        },
        "id": "EkEMCJ_nD-Xb",
        "outputId": "4e719c61-3fcd-478e-a063-53d967b19365"
      },
      "execution_count": null,
      "outputs": [
        {
          "output_type": "stream",
          "name": "stdout",
          "text": [
            "[1 2 3 5 4]\n",
            "[ 4  6 10  9  8]\n",
            "[[3 2 1]\n",
            " [5 6 4]\n",
            " [9 8 7]]\n"
          ]
        }
      ]
    },
    {
      "cell_type": "code",
      "source": [
        "# Função: np.ones() - Cria um array preenchido com uns\n",
        "array_uns = np.ones((2, 2))\n",
        "print(\"Array de uns:\\n\", array_uns)"
      ],
      "metadata": {
        "id": "g23Q5qAUGFQF",
        "colab": {
          "base_uri": "https://localhost:8080/"
        },
        "outputId": "4ce7d281-7500-4053-f9a7-69c628271fec"
      },
      "execution_count": null,
      "outputs": [
        {
          "output_type": "stream",
          "name": "stdout",
          "text": [
            "Array de uns:\n",
            " [[1. 1.]\n",
            " [1. 1.]]\n"
          ]
        }
      ]
    },
    {
      "cell_type": "code",
      "source": [
        "# Função: np.eye() - Cria uma matriz identidade\n",
        "matriz_identidade = np.eye(3)\n",
        "print(\"Matriz identidade 3x3:\\n\", matriz_identidade)"
      ],
      "metadata": {
        "id": "hG9_i8ZsGSAb",
        "colab": {
          "base_uri": "https://localhost:8080/"
        },
        "outputId": "ad97f776-c6e4-4415-bdf7-d7ab9861b100"
      },
      "execution_count": null,
      "outputs": [
        {
          "output_type": "stream",
          "name": "stdout",
          "text": [
            "Matriz identidade 3x3:\n",
            " [[1. 0. 0.]\n",
            " [0. 1. 0.]\n",
            " [0. 0. 1.]]\n"
          ]
        }
      ]
    },
    {
      "cell_type": "markdown",
      "source": [
        "## Operações com DataFrame"
      ],
      "metadata": {
        "id": "7vl7ecW2HP4X"
      }
    },
    {
      "cell_type": "code",
      "source": [
        "import pandas as pd"
      ],
      "metadata": {
        "id": "A6iehMChHSt1"
      },
      "execution_count": null,
      "outputs": []
    },
    {
      "cell_type": "code",
      "source": [
        "# Criando três DataFrames\n",
        "dfA = pd.DataFrame({'A': [1, 2, 3, 4, 5, 2], 'B': [10, 20, 30, 40, 50, 20]})\n",
        "dfB = pd.DataFrame({'C': [6, 7, 8, 9, 10], 'D': [60, 70, 80, 90, 100]})\n",
        "dfC = pd.DataFrame({'E': [11, 12, 13, 14, 15], 'F': [110, 120, 130, 140, 150]})\n",
        "\n",
        "print(\"DataFrame A:\\n\", dfA)\n",
        "print(\"DataFrame B:\\n\", dfB)\n",
        "print(\"DataFrame C:\\n\", dfC)"
      ],
      "metadata": {
        "id": "EetN6dIEmUiU",
        "colab": {
          "base_uri": "https://localhost:8080/"
        },
        "outputId": "6afd3df8-ed2a-4129-df59-b0a6a13d614a"
      },
      "execution_count": null,
      "outputs": [
        {
          "output_type": "stream",
          "name": "stdout",
          "text": [
            "DataFrame A:\n",
            "    A   B\n",
            "0  1  10\n",
            "1  2  20\n",
            "2  3  30\n",
            "3  4  40\n",
            "4  5  50\n",
            "5  2  20\n",
            "DataFrame B:\n",
            "     C    D\n",
            "0   6   60\n",
            "1   7   70\n",
            "2   8   80\n",
            "3   9   90\n",
            "4  10  100\n",
            "DataFrame C:\n",
            "     E    F\n",
            "0  11  110\n",
            "1  12  120\n",
            "2  13  130\n",
            "3  14  140\n",
            "4  15  150\n"
          ]
        }
      ]
    },
    {
      "cell_type": "code",
      "source": [
        "# Função: dfA.head() - Mostra as primeiras linhas do DataFrame\n",
        "print(\"Primeiras linhas de dfA:\\n\", dfA.head())"
      ],
      "metadata": {
        "id": "AgxFfmHqn1Gy",
        "colab": {
          "base_uri": "https://localhost:8080/"
        },
        "outputId": "1f71f4ed-4075-47fd-914e-39eb60cb9bdd"
      },
      "execution_count": null,
      "outputs": [
        {
          "output_type": "stream",
          "name": "stdout",
          "text": [
            "Primeiras linhas de dfA:\n",
            "    A   B\n",
            "0  1  10\n",
            "1  2  20\n",
            "2  3  30\n",
            "3  4  40\n",
            "4  5  50\n"
          ]
        }
      ]
    },
    {
      "cell_type": "code",
      "source": [
        "# Função: dfA.head(n) - Mostra as n primeiras linhas do DataFrame\n",
        "print(\"Primeiras linhas de dfA:\\n\", dfA.head(2))"
      ],
      "metadata": {
        "id": "hTP-ZIrRpaae",
        "colab": {
          "base_uri": "https://localhost:8080/"
        },
        "outputId": "33c718d1-7f7c-4e3c-f3a7-b2d079a08ccc"
      },
      "execution_count": null,
      "outputs": [
        {
          "output_type": "stream",
          "name": "stdout",
          "text": [
            "Primeiras linhas de dfA:\n",
            "    A   B\n",
            "0  1  10\n",
            "1  2  20\n"
          ]
        }
      ]
    },
    {
      "cell_type": "code",
      "source": [
        "# Função: dfA.tail() - Mostra as últimas linhas do DataFrame\n",
        "print(\"Últimas linhas de dfA:\\n\", dfA.tail(2))"
      ],
      "metadata": {
        "id": "MA16Z-g3qMP-",
        "colab": {
          "base_uri": "https://localhost:8080/"
        },
        "outputId": "10fdf62e-691d-4ea1-c02b-7ed1b100fe4c"
      },
      "execution_count": null,
      "outputs": [
        {
          "output_type": "stream",
          "name": "stdout",
          "text": [
            "Últimas linhas de dfA:\n",
            "    A   B\n",
            "4  5  50\n",
            "5  2  20\n"
          ]
        }
      ]
    },
    {
      "cell_type": "code",
      "source": [
        "# Função: dfA.info() - Informações sobre o DataFrame\n",
        "print(\"Informações sobre dfA:\\n\", dfA.info())"
      ],
      "metadata": {
        "id": "-9vkg7nuqU8X",
        "colab": {
          "base_uri": "https://localhost:8080/"
        },
        "outputId": "52113671-8daa-4d3b-d8d0-ae8555fab526"
      },
      "execution_count": null,
      "outputs": [
        {
          "output_type": "stream",
          "name": "stdout",
          "text": [
            "<class 'pandas.core.frame.DataFrame'>\n",
            "RangeIndex: 6 entries, 0 to 5\n",
            "Data columns (total 2 columns):\n",
            " #   Column  Non-Null Count  Dtype\n",
            "---  ------  --------------  -----\n",
            " 0   A       6 non-null      int64\n",
            " 1   B       6 non-null      int64\n",
            "dtypes: int64(2)\n",
            "memory usage: 228.0 bytes\n",
            "Informações sobre dfA:\n",
            " None\n"
          ]
        }
      ]
    },
    {
      "cell_type": "code",
      "source": [
        "# Função: dfA.describe() - Estatísticas descritivas do DataFrame\n",
        "print(\"Estatísticas descritivas de dfA:\\n\", dfA.describe())"
      ],
      "metadata": {
        "id": "Yh5q-mOMwRcJ",
        "colab": {
          "base_uri": "https://localhost:8080/"
        },
        "outputId": "56c7253a-f3f5-42c8-d7ad-066a2249ee2c"
      },
      "execution_count": null,
      "outputs": [
        {
          "output_type": "stream",
          "name": "stdout",
          "text": [
            "Estatísticas descritivas de dfA:\n",
            "               A          B\n",
            "count  6.000000   6.000000\n",
            "mean   2.833333  28.333333\n",
            "std    1.471960  14.719601\n",
            "min    1.000000  10.000000\n",
            "25%    2.000000  20.000000\n",
            "50%    2.500000  25.000000\n",
            "75%    3.750000  37.500000\n",
            "max    5.000000  50.000000\n"
          ]
        }
      ]
    },
    {
      "cell_type": "code",
      "source": [
        "# Função: dfA.shape - Dimensões do DataFrame\n",
        "print(\"Dimensões de dfA:\", dfA.shape)"
      ],
      "metadata": {
        "id": "n1oJAshtwtX_",
        "colab": {
          "base_uri": "https://localhost:8080/"
        },
        "outputId": "ef32197a-6845-49a8-bf79-4db36aa6ad81"
      },
      "execution_count": null,
      "outputs": [
        {
          "output_type": "stream",
          "name": "stdout",
          "text": [
            "Dimensões de dfA: (6, 2)\n"
          ]
        }
      ]
    },
    {
      "cell_type": "code",
      "source": [
        "# Função: dfA.columns - Nomes das colunas do DataFrame\n",
        "print(\"Nomes das colunas de dfA:\", dfB.columns)"
      ],
      "metadata": {
        "id": "OMgPPY2Bw6GD",
        "colab": {
          "base_uri": "https://localhost:8080/"
        },
        "outputId": "8a80e750-fa32-4806-f32f-897d44862003"
      },
      "execution_count": null,
      "outputs": [
        {
          "output_type": "stream",
          "name": "stdout",
          "text": [
            "Nomes das colunas de dfA: Index(['C', 'D'], dtype='object')\n"
          ]
        }
      ]
    },
    {
      "cell_type": "code",
      "source": [
        "# Função: dfA.loc[] - Acesso a linhas e colunas por rótulos\n",
        "print(\"Acesso a linhas e colunas por rótulos de dfA:\\n\", dfA.loc[0:2, 'A'])"
      ],
      "metadata": {
        "id": "dqbouwQixVlf",
        "colab": {
          "base_uri": "https://localhost:8080/"
        },
        "outputId": "c9818319-ba72-4fba-8f90-e19465b09f05"
      },
      "execution_count": null,
      "outputs": [
        {
          "output_type": "stream",
          "name": "stdout",
          "text": [
            "Acesso a linhas e colunas por rótulos de dfA:\n",
            " 0    1\n",
            "1    2\n",
            "2    3\n",
            "Name: A, dtype: int64\n"
          ]
        }
      ]
    },
    {
      "cell_type": "code",
      "source": [
        "# Função: dfA.sort_values() - Ordena o DataFrame por valores\n",
        "print(\"Ordenação de dfA por valores:\\n\", dfA.sort_values(by='B', ascending=False))"
      ],
      "metadata": {
        "id": "0m1NUDhcy7Xz",
        "colab": {
          "base_uri": "https://localhost:8080/"
        },
        "outputId": "ca9801a1-6841-41ad-96c5-026cadf6cdaf"
      },
      "execution_count": null,
      "outputs": [
        {
          "output_type": "stream",
          "name": "stdout",
          "text": [
            "Ordenação de dfA por valores:\n",
            "    A   B\n",
            "4  5  50\n",
            "3  4  40\n",
            "2  3  30\n",
            "1  2  20\n",
            "5  2  20\n",
            "0  1  10\n"
          ]
        }
      ]
    },
    {
      "cell_type": "code",
      "source": [
        "print(dfA)"
      ],
      "metadata": {
        "colab": {
          "base_uri": "https://localhost:8080/"
        },
        "id": "QdgejxZ1G9f4",
        "outputId": "8cdab043-ae9d-416c-9eff-fe8121f8d7bd"
      },
      "execution_count": null,
      "outputs": [
        {
          "output_type": "stream",
          "name": "stdout",
          "text": [
            "   A   B\n",
            "0  1  10\n",
            "1  2  20\n",
            "2  3  30\n",
            "3  4  40\n",
            "4  5  50\n",
            "5  2  20\n"
          ]
        }
      ]
    },
    {
      "cell_type": "code",
      "source": [
        "# Função: dfA.groupby() - Agrupa o DataFrame por colunas\n",
        "sum = dfA.groupby(\"A\").sum()\n",
        "print(\"Agrupamento de dfA por colunas:\\n\", sum)"
      ],
      "metadata": {
        "id": "hfoV1imjzjo0",
        "colab": {
          "base_uri": "https://localhost:8080/"
        },
        "outputId": "62023bb0-866e-4d7b-91d8-965b3602d496"
      },
      "execution_count": null,
      "outputs": [
        {
          "output_type": "stream",
          "name": "stdout",
          "text": [
            "Agrupamento de dfA por colunas:\n",
            "     B\n",
            "A    \n",
            "1  10\n",
            "2  40\n",
            "3  30\n",
            "4  40\n",
            "5  50\n"
          ]
        }
      ]
    },
    {
      "cell_type": "code",
      "source": [
        "# Função: pd.merge() - Combina DataFrames\n",
        "print(\"Combinação de dfA e dfB:\\n\", pd.merge(dfA, dfB, left_index=True, right_index=True))"
      ],
      "metadata": {
        "id": "2CUlH5bP2mja",
        "colab": {
          "base_uri": "https://localhost:8080/"
        },
        "outputId": "5f971b16-a0ea-42dd-8385-5d9285884b78"
      },
      "execution_count": null,
      "outputs": [
        {
          "output_type": "stream",
          "name": "stdout",
          "text": [
            "Combinação de dfA e dfB:\n",
            "    A   B   C    D\n",
            "0  1  10   6   60\n",
            "1  2  20   7   70\n",
            "2  3  30   8   80\n",
            "3  4  40   9   90\n",
            "4  5  50  10  100\n"
          ]
        }
      ]
    },
    {
      "cell_type": "code",
      "source": [
        "# Função: pd.concat() - Concatena DataFrames\n",
        "df_concatenados = pd.concat([dfA, dfB], axis=1)\n",
        "print(\"Concatenação de dfA e dfB:\\n\", df_concatenados)"
      ],
      "metadata": {
        "id": "APL1n3fe3WSc",
        "colab": {
          "base_uri": "https://localhost:8080/"
        },
        "outputId": "b1127e06-f60a-46a6-dedf-3650290fb97c"
      },
      "execution_count": null,
      "outputs": [
        {
          "output_type": "stream",
          "name": "stdout",
          "text": [
            "Concatenação de dfA e dfB:\n",
            "    A   B     C      D\n",
            "0  1  10   6.0   60.0\n",
            "1  2  20   7.0   70.0\n",
            "2  3  30   8.0   80.0\n",
            "3  4  40   9.0   90.0\n",
            "4  5  50  10.0  100.0\n",
            "5  2  20   NaN    NaN\n"
          ]
        }
      ]
    },
    {
      "cell_type": "code",
      "source": [
        "# Função: dfA.drop() - Remove linhas ou colunas\n",
        "print(\"Remoção de coluna de dfA:\\n\", dfA.drop('B', axis=1))"
      ],
      "metadata": {
        "id": "pqq4ZzKD34l8",
        "colab": {
          "base_uri": "https://localhost:8080/"
        },
        "outputId": "c466c508-b3e7-47de-e79a-032339166256"
      },
      "execution_count": null,
      "outputs": [
        {
          "output_type": "stream",
          "name": "stdout",
          "text": [
            "Remoção de coluna de dfA:\n",
            "    A\n",
            "0  1\n",
            "1  2\n",
            "2  3\n",
            "3  4\n",
            "4  5\n",
            "5  2\n"
          ]
        }
      ]
    },
    {
      "cell_type": "code",
      "source": [
        "# Função: df.fillna() - Preenche valores nulos\n",
        "print(\"Preenchendo valores nulos em df_concatenados:\\n\", df_concatenados.fillna(0))"
      ],
      "metadata": {
        "id": "pGcwayph44V6",
        "colab": {
          "base_uri": "https://localhost:8080/"
        },
        "outputId": "3e8ffec0-4fb0-4933-c68d-c0fd811d2fb5"
      },
      "execution_count": null,
      "outputs": [
        {
          "output_type": "stream",
          "name": "stdout",
          "text": [
            "Preenchendo valores nulos em df_concatenados:\n",
            "    A   B     C      D\n",
            "0  1  10   6.0   60.0\n",
            "1  2  20   7.0   70.0\n",
            "2  3  30   8.0   80.0\n",
            "3  4  40   9.0   90.0\n",
            "4  5  50  10.0  100.0\n",
            "5  2  20   0.0    0.0\n"
          ]
        }
      ]
    },
    {
      "cell_type": "code",
      "source": [
        "# Função: dfA.apply() - Aplica uma função a cada elemento\n",
        "print(\"Aplicando função a dfA:\\n\", dfA.apply(lambda x: x * 2))"
      ],
      "metadata": {
        "id": "LHeTFl7A5oPM",
        "colab": {
          "base_uri": "https://localhost:8080/"
        },
        "outputId": "787881f4-4c5b-42cf-9fc6-6efbed8670d9"
      },
      "execution_count": null,
      "outputs": [
        {
          "output_type": "stream",
          "name": "stdout",
          "text": [
            "Aplicando função a dfA:\n",
            "     A    B\n",
            "0   2   20\n",
            "1   4   40\n",
            "2   6   60\n",
            "3   8   80\n",
            "4  10  100\n",
            "5   4   40\n"
          ]
        }
      ]
    },
    {
      "cell_type": "code",
      "source": [
        "# Função: dfA.to_csv() - Salva o DataFrame em um arquivo CSV\n",
        "dfA.to_csv('dfA.csv')"
      ],
      "metadata": {
        "id": "beO7ujyL8LYd"
      },
      "execution_count": null,
      "outputs": []
    },
    {
      "cell_type": "code",
      "source": [
        "# Função: pd.read_csv() - Lê um arquivo CSV e cria um DataFrame\n",
        "df_from_csv = pd.read_csv('dfA.csv')\n",
        "print(\"DataFrame lido de um arquivo CSV:\\n\", df_from_csv)"
      ],
      "metadata": {
        "id": "7VnHTDfN9V5j",
        "colab": {
          "base_uri": "https://localhost:8080/"
        },
        "outputId": "16bc4f2c-e6ef-485e-9731-36399adb0367"
      },
      "execution_count": null,
      "outputs": [
        {
          "output_type": "stream",
          "name": "stdout",
          "text": [
            "DataFrame lido de um arquivo CSV:\n",
            "    Unnamed: 0  A   B\n",
            "0           0  1  10\n",
            "1           1  2  20\n",
            "2           2  3  30\n",
            "3           3  4  40\n",
            "4           4  5  50\n",
            "5           5  2  20\n"
          ]
        }
      ]
    },
    {
      "cell_type": "code",
      "source": [
        "# Função: dfA.plot() - Plota o DataFrame\n",
        "dfA.plot(kind='bar', x='A', y='B')\n",
        "print(\"Plotando dfA:\")"
      ],
      "metadata": {
        "id": "o1aBC9s79pXH",
        "colab": {
          "base_uri": "https://localhost:8080/",
          "height": 461
        },
        "outputId": "b572c4cd-e00c-4630-ced1-71f37179ad4e"
      },
      "execution_count": null,
      "outputs": [
        {
          "output_type": "stream",
          "name": "stdout",
          "text": [
            "Plotando dfA:\n"
          ]
        },
        {
          "output_type": "display_data",
          "data": {
            "text/plain": [
              "<Figure size 640x480 with 1 Axes>"
            ],
            "image/png": "[encoded data removed]"
          },
          "metadata": {}
        }
      ]
    }
  ]
}