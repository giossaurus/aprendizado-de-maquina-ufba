{
  "nbformat": 4,
  "nbformat_minor": 0,
  "metadata": {
    "colab": {
      "provenance": [],
      "include_colab_link": true
    },
    "kernelspec": {
      "name": "python3",
      "display_name": "Python 3"
    },
    "language_info": {
      "name": "python"
    }
  },
  "cells": [
    {
      "cell_type": "markdown",
      "metadata": {
        "id": "view-in-github",
        "colab_type": "text"
      },
      "source": [
        "<a href=\"https://colab.research.google.com/github/giossaurus/aprendizado-de-maquina-ufba/blob/main/Aula_02_Analise_Explorat%C3%B3ria_Load_Brest_Cancer_Exercicio.ipynb\" target=\"_parent\"><img src=\"https://colab.research.google.com/assets/colab-badge.svg\" alt=\"Open In Colab\"/></a>"
      ]
    },
    {
      "cell_type": "code",
      "execution_count": null,
      "metadata": {
        "id": "vj_Zxa6oa8h2"
      },
      "outputs": [],
      "source": [
        "# Importando as bibliotecas necessárias\n",
        "from sklearn.datasets import load_breast_cancer\n",
        "import pandas as pd\n",
        "import numpy as np\n",
        "import matplotlib.pyplot as plt\n",
        "import seaborn as sns\n",
        "from scipy import stats"
      ]
    },
    {
      "cell_type": "code",
      "source": [
        "# Carregando o dataset\n",
        "breast_cancer = load_breast_cancer()\n",
        "\n",
        "# Convertendo para um DataFrame do pandas\n",
        "df = pd.DataFrame(data=breast_cancer.data, columns=breast_cancer.feature_names)\n",
        "df['target'] = breast_cancer.target\n"
      ],
      "metadata": {
        "id": "ytbcHcJvbw99"
      },
      "execution_count": null,
      "outputs": []
    },
    {
      "cell_type": "code",
      "source": [
        "# Características do dataset\n"
      ],
      "metadata": {
        "id": "-8Q0OUR_d5zC"
      },
      "execution_count": null,
      "outputs": []
    },
    {
      "cell_type": "code",
      "source": [
        "# Visualizando as 10 primeiras linhas do Dataset\n",
        "print(\"10 Primeiras Linhas do Dataset:\")\n"
      ],
      "metadata": {
        "id": "nAmJO_f3f5jk"
      },
      "execution_count": null,
      "outputs": []
    },
    {
      "cell_type": "code",
      "source": [
        "# Resumo estatístico básico\n",
        "print(\"\\nResumo Estatístico Básico:\")\n",
        "\n"
      ],
      "metadata": {
        "id": "o3oR-qG_f-eD"
      },
      "execution_count": null,
      "outputs": []
    },
    {
      "cell_type": "code",
      "source": [
        "# Análise de uma Coluna Específica: mean radius\n",
        "mean_radius = df['mean radius']\n",
        "\n",
        "# Medidas de tendência central\n",
        "mean_radius_mean =\n",
        "mean_radius_median =\n",
        "mean_radius_mode =\n",
        "\n",
        "print(\"\\nMedidas de Tendência Central\")\n"
      ],
      "metadata": {
        "id": "GKFPql2UgCNJ"
      },
      "execution_count": null,
      "outputs": []
    },
    {
      "cell_type": "code",
      "source": [
        "# Medidas de dispersão\n",
        "mean_radius_std =\n",
        "mean_radius_variance =\n",
        "mean_radius_range =\n",
        "\n",
        "print(\"\\nMedidas de Dispersão:\")\n",
        "\n"
      ],
      "metadata": {
        "id": "j9DzloTggIKa"
      },
      "execution_count": null,
      "outputs": []
    },
    {
      "cell_type": "code",
      "source": [
        "# Medidas de forma\n"
      ],
      "metadata": {
        "id": "6yFJSoyegOgD"
      },
      "execution_count": null,
      "outputs": []
    },
    {
      "cell_type": "code",
      "source": [
        "# Gráfico de Histograma\n",
        "\n",
        "\n"
      ],
      "metadata": {
        "id": "rTukiAF2gZNH"
      },
      "execution_count": null,
      "outputs": []
    },
    {
      "cell_type": "code",
      "source": [
        "# Gráfico de Frequência\n"
      ],
      "metadata": {
        "id": "kxq4qaROgc6b"
      },
      "execution_count": null,
      "outputs": []
    },
    {
      "cell_type": "code",
      "source": [
        "# Boxplot\n"
      ],
      "metadata": {
        "id": "B-F4IrHEgkwy"
      },
      "execution_count": null,
      "outputs": []
    },
    {
      "cell_type": "code",
      "source": [
        "# Gráfico de Linha\n"
      ],
      "metadata": {
        "id": "mM9KqUxVgmkC"
      },
      "execution_count": null,
      "outputs": []
    }
  ]
}