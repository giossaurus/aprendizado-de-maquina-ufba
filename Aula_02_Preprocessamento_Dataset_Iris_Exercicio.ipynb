{
  "nbformat": 4,
  "nbformat_minor": 0,
  "metadata": {
    "colab": {
      "provenance": [],
      "include_colab_link": true
    },
    "kernelspec": {
      "name": "python3",
      "display_name": "Python 3"
    },
    "language_info": {
      "name": "python"
    }
  },
  "cells": [
    {
      "cell_type": "markdown",
      "metadata": {
        "id": "view-in-github",
        "colab_type": "text"
      },
      "source": [
        "<a href=\"https://colab.research.google.com/github/giossaurus/aprendizado-de-maquina-ufba/blob/main/Aula_02_Preprocessamento_Dataset_Iris_Exercicio.ipynb\" target=\"_parent\"><img src=\"https://colab.research.google.com/assets/colab-badge.svg\" alt=\"Open In Colab\"/></a>"
      ]
    },
    {
      "cell_type": "markdown",
      "source": [
        "# Tratar os Problemas no Dataset da Iris\n"
      ],
      "metadata": {
        "id": "LX1y_tndEMXB"
      }
    },
    {
      "cell_type": "code",
      "execution_count": null,
      "metadata": {
        "id": "nKsQMkYgDvb3"
      },
      "outputs": [],
      "source": [
        "import pandas as pd\n",
        "import numpy as np\n",
        "import matplotlib.pyplot as plt\n",
        "import seaborn as sns\n",
        "from sklearn.impute import SimpleImputer"
      ]
    },
    {
      "cell_type": "code",
      "source": [
        "# montar drive\n",
        "from google.colab import drive\n",
        "drive.mount('/content/drive')"
      ],
      "metadata": {
        "id": "7-3qGT3JEbtV"
      },
      "execution_count": null,
      "outputs": []
    },
    {
      "cell_type": "code",
      "source": [
        "# Carregar o dataset modificado\n",
        "caminho = # Coloquem o caminho onde está o dataset ex.: /content/drive/Aprendizado de Maquina/\n",
        "iris_df = pd.read_csv(caminho + 'iris_modificado.csv')"
      ],
      "metadata": {
        "id": "8ttbG-74Etwp"
      },
      "execution_count": null,
      "outputs": []
    },
    {
      "cell_type": "code",
      "source": [
        "# Exibir as 10 primeiras linhas do dataset modificado\n",
        "print(\"Primeiras 10 linhas do dataset modificado:\")\n"
      ],
      "metadata": {
        "id": "pw_vLCnrFfj2"
      },
      "execution_count": null,
      "outputs": []
    },
    {
      "cell_type": "code",
      "source": [
        "# Contando o número de campos com dados nulos\n"
      ],
      "metadata": {
        "id": "RRsVhps6Fxxv"
      },
      "execution_count": null,
      "outputs": []
    },
    {
      "cell_type": "code",
      "source": [
        "# Exibir medidas descritivas do dataset modificado\n",
        "print(\"\\nMedidas descritivas do dataset modificado:\")\n"
      ],
      "metadata": {
        "id": "82hDo5NCGIOD"
      },
      "execution_count": null,
      "outputs": []
    },
    {
      "cell_type": "code",
      "source": [
        "# Tratar valores ausentes\n"
      ],
      "metadata": {
        "id": "PW66wQGrGMMj"
      },
      "execution_count": null,
      "outputs": []
    },
    {
      "cell_type": "code",
      "source": [
        "# Exibir as 10 primeiras linhas do dataset modificado\n",
        "print(\"Primeiras 10 linhas do dataset modificado:\")\n"
      ],
      "metadata": {
        "id": "DvTXX1JZGbbY"
      },
      "execution_count": null,
      "outputs": []
    },
    {
      "cell_type": "code",
      "source": [
        "# Exibe boxplot\n",
        "\n"
      ],
      "metadata": {
        "id": "Q4wM2etBGlrn"
      },
      "execution_count": null,
      "outputs": []
    },
    {
      "cell_type": "code",
      "source": [
        "# Tratar outliers\n",
        "# Vamos assumir que qualquer valor acima de 10 é um outlier e vamos substituí-lo pelo valor máximo não outlier\n"
      ],
      "metadata": {
        "id": "I26KgsZuG7eD"
      },
      "execution_count": null,
      "outputs": []
    },
    {
      "cell_type": "code",
      "source": [
        "# Exibe boxplot"
      ],
      "metadata": {
        "id": "uJpYo_WTHDbu"
      },
      "execution_count": null,
      "outputs": []
    },
    {
      "cell_type": "code",
      "source": [
        "# Exibir as 10 primeiras linhas do dataset modificado\n",
        "print(\"Primeiras 10 linhas do dataset modificado:\")\n"
      ],
      "metadata": {
        "id": "MObaTUE6HMRD"
      },
      "execution_count": null,
      "outputs": []
    },
    {
      "cell_type": "code",
      "source": [
        "# Tratar dados duplicados\n",
        "print('Describe antes')\n",
        "\n",
        "print('Describe depois')\n"
      ],
      "metadata": {
        "id": "IhWN2PjSHSNR"
      },
      "execution_count": null,
      "outputs": []
    },
    {
      "cell_type": "code",
      "source": [
        "# Exibir o dataset tratado\n",
        "print(\"\\nDataset tratado:\")\n"
      ],
      "metadata": {
        "id": "A8jbIEauHkDM"
      },
      "execution_count": null,
      "outputs": []
    },
    {
      "cell_type": "code",
      "source": [
        "# Contando o número de campos com dados nulos\n"
      ],
      "metadata": {
        "id": "Q985oeyYHv_E"
      },
      "execution_count": null,
      "outputs": []
    },
    {
      "cell_type": "code",
      "source": [
        "# Salvar o dataset tratado\n"
      ],
      "metadata": {
        "id": "NJO6Eh4NH2RC"
      },
      "execution_count": null,
      "outputs": []
    }
  ]
}